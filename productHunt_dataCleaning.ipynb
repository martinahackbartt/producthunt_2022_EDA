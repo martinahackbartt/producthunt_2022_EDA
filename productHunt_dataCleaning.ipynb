{
 "cells": [
  {
   "cell_type": "code",
   "execution_count": 56,
   "id": "fa612876",
   "metadata": {},
   "outputs": [],
   "source": [
    "import pandas as pd\n",
    "import matplotlib.pyplot as plt\n",
    "from datetime import datetime\n",
    "import numpy as np\n",
    "import seaborn as sns"
   ]
  },
  {
   "cell_type": "markdown",
   "id": "d8318cf0",
   "metadata": {},
   "source": [
    "## Product Hunt 2022 data- Exploratory Data Analysis"
   ]
  },
  {
   "cell_type": "markdown",
   "id": "861566f5",
   "metadata": {},
   "source": [
    "#### Structure investigation and adjustments"
   ]
  },
  {
   "cell_type": "markdown",
   "id": "4c700f79",
   "metadata": {},
   "source": [
    "Importing the dataset in csv format. Data extracted from https://www.producthunt.com/time-travel using https://www.octoparse.com/ "
   ]
  },
  {
   "cell_type": "code",
   "execution_count": 42,
   "id": "054e7561",
   "metadata": {},
   "outputs": [
    {
     "data": {
      "text/html": [
       "<div>\n",
       "<style scoped>\n",
       "    .dataframe tbody tr th:only-of-type {\n",
       "        vertical-align: middle;\n",
       "    }\n",
       "\n",
       "    .dataframe tbody tr th {\n",
       "        vertical-align: top;\n",
       "    }\n",
       "\n",
       "    .dataframe thead th {\n",
       "        text-align: right;\n",
       "    }\n",
       "</style>\n",
       "<table border=\"1\" class=\"dataframe\">\n",
       "  <thead>\n",
       "    <tr style=\"text-align: right;\">\n",
       "      <th></th>\n",
       "      <th>product_name</th>\n",
       "      <th>tagline</th>\n",
       "      <th>comments</th>\n",
       "      <th>price</th>\n",
       "      <th>URL</th>\n",
       "      <th>category</th>\n",
       "      <th>upvotes</th>\n",
       "      <th>date</th>\n",
       "    </tr>\n",
       "  </thead>\n",
       "  <tbody>\n",
       "    <tr>\n",
       "      <th>0</th>\n",
       "      <td>World Explorer by Insured Nomads</td>\n",
       "      <td>Insurance meets travel tech for the global wor...</td>\n",
       "      <td>84</td>\n",
       "      <td>NaN</td>\n",
       "      <td>https://www.producthunt.com/topics/global-nomad</td>\n",
       "      <td>Global Nomad</td>\n",
       "      <td>389.0</td>\n",
       "      <td>Posts for January 1, 2022 | Product Hunt | Pro...</td>\n",
       "    </tr>\n",
       "    <tr>\n",
       "      <th>1</th>\n",
       "      <td>Tailwind Box Shadows</td>\n",
       "      <td>Curated list of box shadows for your cards to ...</td>\n",
       "      <td>25</td>\n",
       "      <td>Free</td>\n",
       "      <td>https://www.producthunt.com/topics/productivity</td>\n",
       "      <td>Productivity</td>\n",
       "      <td>203.0</td>\n",
       "      <td>Posts for January 1, 2022 | Product Hunt | Pro...</td>\n",
       "    </tr>\n",
       "    <tr>\n",
       "      <th>2</th>\n",
       "      <td>24me Smart Personal Assistant</td>\n",
       "      <td>Keep new year's resolutions and get organized ...</td>\n",
       "      <td>8</td>\n",
       "      <td>Free</td>\n",
       "      <td>https://www.producthunt.com/topics/productivity</td>\n",
       "      <td>Productivity</td>\n",
       "      <td>127.0</td>\n",
       "      <td>Posts for January 1, 2022 | Product Hunt | Pro...</td>\n",
       "    </tr>\n",
       "    <tr>\n",
       "      <th>3</th>\n",
       "      <td>Habitify Challenge</td>\n",
       "      <td>Track &amp; build new habits with your friends in ...</td>\n",
       "      <td>10</td>\n",
       "      <td>Free</td>\n",
       "      <td>https://www.producthunt.com/topics/productivity</td>\n",
       "      <td>Productivity</td>\n",
       "      <td>168.0</td>\n",
       "      <td>Posts for January 1, 2022 | Product Hunt | Pro...</td>\n",
       "    </tr>\n",
       "    <tr>\n",
       "      <th>4</th>\n",
       "      <td>Sunflower iOS App</td>\n",
       "      <td>Rewire your brain to associate sobriety with r...</td>\n",
       "      <td>14</td>\n",
       "      <td>Free</td>\n",
       "      <td>https://www.producthunt.com/topics/ios</td>\n",
       "      <td>iOS</td>\n",
       "      <td>105.0</td>\n",
       "      <td>Posts for January 1, 2022 | Product Hunt | Pro...</td>\n",
       "    </tr>\n",
       "    <tr>\n",
       "      <th>...</th>\n",
       "      <td>...</td>\n",
       "      <td>...</td>\n",
       "      <td>...</td>\n",
       "      <td>...</td>\n",
       "      <td>...</td>\n",
       "      <td>...</td>\n",
       "      <td>...</td>\n",
       "      <td>...</td>\n",
       "    </tr>\n",
       "    <tr>\n",
       "      <th>6459</th>\n",
       "      <td>Backpaper</td>\n",
       "      <td>The 'No BS' wallpaper app</td>\n",
       "      <td>5</td>\n",
       "      <td>Free</td>\n",
       "      <td>https://www.producthunt.com/topics/android</td>\n",
       "      <td>Android</td>\n",
       "      <td>24.0</td>\n",
       "      <td>Posts for December 23, 2022 | Product Hunt | P...</td>\n",
       "    </tr>\n",
       "    <tr>\n",
       "      <th>6460</th>\n",
       "      <td>Attribuly Attribution for Shopify</td>\n",
       "      <td>Maximize ROAS with real-time marketing attribu...</td>\n",
       "      <td>7</td>\n",
       "      <td>Free Options</td>\n",
       "      <td>https://www.producthunt.com/topics/saas</td>\n",
       "      <td>SaaS</td>\n",
       "      <td>23.0</td>\n",
       "      <td>Posts for December 23, 2022 | Product Hunt | P...</td>\n",
       "    </tr>\n",
       "    <tr>\n",
       "      <th>6461</th>\n",
       "      <td>Avatar Maker - Add a Santa Hat</td>\n",
       "      <td>Add a santa hat or approval badge to your soci...</td>\n",
       "      <td>17</td>\n",
       "      <td>Free Options</td>\n",
       "      <td>https://www.producthunt.com/topics/funny-games</td>\n",
       "      <td>Funny Games</td>\n",
       "      <td>28.0</td>\n",
       "      <td>Posts for December 23, 2022 | Product Hunt | P...</td>\n",
       "    </tr>\n",
       "    <tr>\n",
       "      <th>6462</th>\n",
       "      <td>Ultimate Life Planner 1.4</td>\n",
       "      <td>Manage Everything in your life, entirely in No...</td>\n",
       "      <td>4</td>\n",
       "      <td>Payment Required</td>\n",
       "      <td>https://www.producthunt.com/topics/productivity</td>\n",
       "      <td>Productivity</td>\n",
       "      <td>21.0</td>\n",
       "      <td>Posts for December 23, 2022 | Product Hunt | P...</td>\n",
       "    </tr>\n",
       "    <tr>\n",
       "      <th>6463</th>\n",
       "      <td>B^ DISCOVER</td>\n",
       "      <td>Create a picture worth a thousand words in sec...</td>\n",
       "      <td>3</td>\n",
       "      <td>Free</td>\n",
       "      <td>https://www.producthunt.com/topics/android</td>\n",
       "      <td>Android</td>\n",
       "      <td>21.0</td>\n",
       "      <td>Posts for December 23, 2022 | Product Hunt | P...</td>\n",
       "    </tr>\n",
       "  </tbody>\n",
       "</table>\n",
       "<p>6464 rows × 8 columns</p>\n",
       "</div>"
      ],
      "text/plain": [
       "                           product_name  \\\n",
       "0      World Explorer by Insured Nomads   \n",
       "1                  Tailwind Box Shadows   \n",
       "2         24me Smart Personal Assistant   \n",
       "3                    Habitify Challenge   \n",
       "4                     Sunflower iOS App   \n",
       "...                                 ...   \n",
       "6459                          Backpaper   \n",
       "6460  Attribuly Attribution for Shopify   \n",
       "6461     Avatar Maker - Add a Santa Hat   \n",
       "6462          Ultimate Life Planner 1.4   \n",
       "6463                        B^ DISCOVER   \n",
       "\n",
       "                                                tagline comments  \\\n",
       "0     Insurance meets travel tech for the global wor...       84   \n",
       "1     Curated list of box shadows for your cards to ...       25   \n",
       "2     Keep new year's resolutions and get organized ...        8   \n",
       "3     Track & build new habits with your friends in ...       10   \n",
       "4     Rewire your brain to associate sobriety with r...       14   \n",
       "...                                                 ...      ...   \n",
       "6459                          The 'No BS' wallpaper app        5   \n",
       "6460  Maximize ROAS with real-time marketing attribu...        7   \n",
       "6461  Add a santa hat or approval badge to your soci...       17   \n",
       "6462  Manage Everything in your life, entirely in No...        4   \n",
       "6463  Create a picture worth a thousand words in sec...        3   \n",
       "\n",
       "                 price                                              URL  \\\n",
       "0                  NaN  https://www.producthunt.com/topics/global-nomad   \n",
       "1                 Free  https://www.producthunt.com/topics/productivity   \n",
       "2                 Free  https://www.producthunt.com/topics/productivity   \n",
       "3                 Free  https://www.producthunt.com/topics/productivity   \n",
       "4                 Free           https://www.producthunt.com/topics/ios   \n",
       "...                ...                                              ...   \n",
       "6459              Free       https://www.producthunt.com/topics/android   \n",
       "6460      Free Options          https://www.producthunt.com/topics/saas   \n",
       "6461      Free Options   https://www.producthunt.com/topics/funny-games   \n",
       "6462  Payment Required  https://www.producthunt.com/topics/productivity   \n",
       "6463              Free       https://www.producthunt.com/topics/android   \n",
       "\n",
       "          category  upvotes                                               date  \n",
       "0     Global Nomad    389.0  Posts for January 1, 2022 | Product Hunt | Pro...  \n",
       "1     Productivity    203.0  Posts for January 1, 2022 | Product Hunt | Pro...  \n",
       "2     Productivity    127.0  Posts for January 1, 2022 | Product Hunt | Pro...  \n",
       "3     Productivity    168.0  Posts for January 1, 2022 | Product Hunt | Pro...  \n",
       "4              iOS    105.0  Posts for January 1, 2022 | Product Hunt | Pro...  \n",
       "...            ...      ...                                                ...  \n",
       "6459       Android     24.0  Posts for December 23, 2022 | Product Hunt | P...  \n",
       "6460          SaaS     23.0  Posts for December 23, 2022 | Product Hunt | P...  \n",
       "6461   Funny Games     28.0  Posts for December 23, 2022 | Product Hunt | P...  \n",
       "6462  Productivity     21.0  Posts for December 23, 2022 | Product Hunt | P...  \n",
       "6463       Android     21.0  Posts for December 23, 2022 | Product Hunt | P...  \n",
       "\n",
       "[6464 rows x 8 columns]"
      ]
     },
     "metadata": {},
     "output_type": "display_data"
    }
   ],
   "source": [
    "product_hunt= pd.read_csv('/Users/martinahackbartt/Documents/producthunt_scraping_dec23.csv', sep=';', decimal=',')\n",
    "product_hunt= product_hunt.drop(columns = [\"image\"])\n",
    "display(product_hunt)"
   ]
  },
  {
   "cell_type": "markdown",
   "id": "f6482b95",
   "metadata": {},
   "source": [
    "Changing data types and reformatting the 'date' field"
   ]
  },
  {
   "cell_type": "code",
   "execution_count": 57,
   "id": "adaf043f",
   "metadata": {},
   "outputs": [
    {
     "name": "stdout",
     "output_type": "stream",
     "text": [
      "<class 'pandas.core.frame.DataFrame'>\n",
      "RangeIndex: 6464 entries, 0 to 6463\n",
      "Data columns (total 8 columns):\n",
      " #   Column        Non-Null Count  Dtype         \n",
      "---  ------        --------------  -----         \n",
      " 0   product_name  6464 non-null   object        \n",
      " 1   tagline       6464 non-null   object        \n",
      " 2   comments      6464 non-null   int64         \n",
      " 3   price         6464 non-null   object        \n",
      " 4   URL           6464 non-null   object        \n",
      " 5   category      6464 non-null   object        \n",
      " 6   upvotes       6464 non-null   int64         \n",
      " 7   date          6464 non-null   datetime64[ns]\n",
      "dtypes: datetime64[ns](1), int64(2), object(5)\n",
      "memory usage: 404.1+ KB\n"
     ]
    }
   ],
   "source": [
    "product_hunt.info()"
   ]
  },
  {
   "cell_type": "code",
   "execution_count": 102,
   "id": "292f78e5",
   "metadata": {},
   "outputs": [],
   "source": [
    "#Strings\n",
    "product_hunt[[\"product_name\", \"tagline\", \"URL\", \"category\",\"price\"]] = product_hunt[[\"product_name\", \"tagline\", \"URL\", \"category\", \"price\"]].astype(str)\n",
    "#Float\n",
    "product_hunt[[\"upvotes\", \"comments\"]] = product_hunt[[\"upvotes\", \"comments\"]].astype(int)\n",
    "#Date\n",
    "date_format = 'Posts for %B %d, %Y | Product Hunt | Product Hunt'\n",
    "product_hunt[\"date\"] = pd.to_datetime(product_hunt[\"date\"], format=date_format)"
   ]
  },
  {
   "cell_type": "markdown",
   "id": "2649cce9",
   "metadata": {},
   "source": [
    "Adding a 'day of the week' column which will be used in the visualization"
   ]
  },
  {
   "cell_type": "code",
   "execution_count": 105,
   "id": "626c30e5",
   "metadata": {},
   "outputs": [],
   "source": [
    "def get_day_of_week(timestamp):\n",
    "    date_str = timestamp.strftime('%Y-%m-%d')\n",
    "    dt = datetime.strptime(date_str, '%Y-%m-%d')\n",
    "    return dt.strftime('%A')\n",
    "\n",
    "product_hunt['day_of_week'] = product_hunt['date'].apply(get_day_of_week)"
   ]
  },
  {
   "cell_type": "code",
   "execution_count": 106,
   "id": "f9dc821a",
   "metadata": {},
   "outputs": [
    {
     "data": {
      "text/html": [
       "<div>\n",
       "<style scoped>\n",
       "    .dataframe tbody tr th:only-of-type {\n",
       "        vertical-align: middle;\n",
       "    }\n",
       "\n",
       "    .dataframe tbody tr th {\n",
       "        vertical-align: top;\n",
       "    }\n",
       "\n",
       "    .dataframe thead th {\n",
       "        text-align: right;\n",
       "    }\n",
       "</style>\n",
       "<table border=\"1\" class=\"dataframe\">\n",
       "  <thead>\n",
       "    <tr style=\"text-align: right;\">\n",
       "      <th></th>\n",
       "      <th>product_name</th>\n",
       "      <th>tagline</th>\n",
       "      <th>comments</th>\n",
       "      <th>price</th>\n",
       "      <th>URL</th>\n",
       "      <th>category</th>\n",
       "      <th>upvotes</th>\n",
       "      <th>date</th>\n",
       "      <th>day_of_week</th>\n",
       "    </tr>\n",
       "  </thead>\n",
       "  <tbody>\n",
       "    <tr>\n",
       "      <th>0</th>\n",
       "      <td>World Explorer by Insured Nomads</td>\n",
       "      <td>Insurance meets travel tech for the global wor...</td>\n",
       "      <td>84</td>\n",
       "      <td>nan</td>\n",
       "      <td>https://www.producthunt.com/topics/global-nomad</td>\n",
       "      <td>Global Nomad</td>\n",
       "      <td>389</td>\n",
       "      <td>2022-01-01</td>\n",
       "      <td>Saturday</td>\n",
       "    </tr>\n",
       "    <tr>\n",
       "      <th>1</th>\n",
       "      <td>Tailwind Box Shadows</td>\n",
       "      <td>Curated list of box shadows for your cards to ...</td>\n",
       "      <td>25</td>\n",
       "      <td>Free</td>\n",
       "      <td>https://www.producthunt.com/topics/productivity</td>\n",
       "      <td>Productivity</td>\n",
       "      <td>203</td>\n",
       "      <td>2022-01-01</td>\n",
       "      <td>Saturday</td>\n",
       "    </tr>\n",
       "    <tr>\n",
       "      <th>2</th>\n",
       "      <td>24me Smart Personal Assistant</td>\n",
       "      <td>Keep new year's resolutions and get organized ...</td>\n",
       "      <td>8</td>\n",
       "      <td>Free</td>\n",
       "      <td>https://www.producthunt.com/topics/productivity</td>\n",
       "      <td>Productivity</td>\n",
       "      <td>127</td>\n",
       "      <td>2022-01-01</td>\n",
       "      <td>Saturday</td>\n",
       "    </tr>\n",
       "    <tr>\n",
       "      <th>3</th>\n",
       "      <td>Habitify Challenge</td>\n",
       "      <td>Track &amp; build new habits with your friends in ...</td>\n",
       "      <td>10</td>\n",
       "      <td>Free</td>\n",
       "      <td>https://www.producthunt.com/topics/productivity</td>\n",
       "      <td>Productivity</td>\n",
       "      <td>168</td>\n",
       "      <td>2022-01-01</td>\n",
       "      <td>Saturday</td>\n",
       "    </tr>\n",
       "    <tr>\n",
       "      <th>4</th>\n",
       "      <td>Sunflower iOS App</td>\n",
       "      <td>Rewire your brain to associate sobriety with r...</td>\n",
       "      <td>14</td>\n",
       "      <td>Free</td>\n",
       "      <td>https://www.producthunt.com/topics/ios</td>\n",
       "      <td>iOS</td>\n",
       "      <td>105</td>\n",
       "      <td>2022-01-01</td>\n",
       "      <td>Saturday</td>\n",
       "    </tr>\n",
       "  </tbody>\n",
       "</table>\n",
       "</div>"
      ],
      "text/plain": [
       "                       product_name  \\\n",
       "0  World Explorer by Insured Nomads   \n",
       "1              Tailwind Box Shadows   \n",
       "2     24me Smart Personal Assistant   \n",
       "3                Habitify Challenge   \n",
       "4                 Sunflower iOS App   \n",
       "\n",
       "                                             tagline  comments price  \\\n",
       "0  Insurance meets travel tech for the global wor...        84   nan   \n",
       "1  Curated list of box shadows for your cards to ...        25  Free   \n",
       "2  Keep new year's resolutions and get organized ...         8  Free   \n",
       "3  Track & build new habits with your friends in ...        10  Free   \n",
       "4  Rewire your brain to associate sobriety with r...        14  Free   \n",
       "\n",
       "                                               URL      category  upvotes  \\\n",
       "0  https://www.producthunt.com/topics/global-nomad  Global Nomad      389   \n",
       "1  https://www.producthunt.com/topics/productivity  Productivity      203   \n",
       "2  https://www.producthunt.com/topics/productivity  Productivity      127   \n",
       "3  https://www.producthunt.com/topics/productivity  Productivity      168   \n",
       "4           https://www.producthunt.com/topics/ios           iOS      105   \n",
       "\n",
       "        date day_of_week  \n",
       "0 2022-01-01    Saturday  \n",
       "1 2022-01-01    Saturday  \n",
       "2 2022-01-01    Saturday  \n",
       "3 2022-01-01    Saturday  \n",
       "4 2022-01-01    Saturday  "
      ]
     },
     "execution_count": 106,
     "metadata": {},
     "output_type": "execute_result"
    }
   ],
   "source": [
    "product_hunt.head(5)"
   ]
  },
  {
   "cell_type": "markdown",
   "id": "ab95127f",
   "metadata": {},
   "source": [
    "Structure of numerical features"
   ]
  },
  {
   "cell_type": "code",
   "execution_count": 67,
   "id": "371b5df6",
   "metadata": {},
   "outputs": [
    {
     "data": {
      "text/html": [
       "<div>\n",
       "<style scoped>\n",
       "    .dataframe tbody tr th:only-of-type {\n",
       "        vertical-align: middle;\n",
       "    }\n",
       "\n",
       "    .dataframe tbody tr th {\n",
       "        vertical-align: top;\n",
       "    }\n",
       "\n",
       "    .dataframe thead th {\n",
       "        text-align: right;\n",
       "    }\n",
       "</style>\n",
       "<table border=\"1\" class=\"dataframe\">\n",
       "  <thead>\n",
       "    <tr style=\"text-align: right;\">\n",
       "      <th></th>\n",
       "      <th>comments</th>\n",
       "      <th>upvotes</th>\n",
       "    </tr>\n",
       "  </thead>\n",
       "  <tbody>\n",
       "    <tr>\n",
       "      <th>count</th>\n",
       "      <td>6464.000000</td>\n",
       "      <td>6464.000000</td>\n",
       "    </tr>\n",
       "    <tr>\n",
       "      <th>mean</th>\n",
       "      <td>47.940594</td>\n",
       "      <td>192.974629</td>\n",
       "    </tr>\n",
       "    <tr>\n",
       "      <th>std</th>\n",
       "      <td>84.458988</td>\n",
       "      <td>191.179484</td>\n",
       "    </tr>\n",
       "    <tr>\n",
       "      <th>min</th>\n",
       "      <td>0.000000</td>\n",
       "      <td>1.000000</td>\n",
       "    </tr>\n",
       "    <tr>\n",
       "      <th>25%</th>\n",
       "      <td>7.000000</td>\n",
       "      <td>58.000000</td>\n",
       "    </tr>\n",
       "    <tr>\n",
       "      <th>50%</th>\n",
       "      <td>21.000000</td>\n",
       "      <td>123.000000</td>\n",
       "    </tr>\n",
       "    <tr>\n",
       "      <th>75%</th>\n",
       "      <td>54.000000</td>\n",
       "      <td>265.250000</td>\n",
       "    </tr>\n",
       "    <tr>\n",
       "      <th>max</th>\n",
       "      <td>2257.000000</td>\n",
       "      <td>997.000000</td>\n",
       "    </tr>\n",
       "  </tbody>\n",
       "</table>\n",
       "</div>"
      ],
      "text/plain": [
       "          comments      upvotes\n",
       "count  6464.000000  6464.000000\n",
       "mean     47.940594   192.974629\n",
       "std      84.458988   191.179484\n",
       "min       0.000000     1.000000\n",
       "25%       7.000000    58.000000\n",
       "50%      21.000000   123.000000\n",
       "75%      54.000000   265.250000\n",
       "max    2257.000000   997.000000"
      ]
     },
     "execution_count": 67,
     "metadata": {},
     "output_type": "execute_result"
    }
   ],
   "source": [
    "product_hunt.describe()"
   ]
  },
  {
   "cell_type": "markdown",
   "id": "49672e06",
   "metadata": {},
   "source": [
    "#### Quality investigation"
   ]
  },
  {
   "cell_type": "markdown",
   "id": "ae701771",
   "metadata": {},
   "source": [
    "Missing values"
   ]
  },
  {
   "cell_type": "code",
   "execution_count": 83,
   "id": "9116c506",
   "metadata": {},
   "outputs": [
    {
     "data": {
      "text/plain": [
       "product_name    0\n",
       "tagline         0\n",
       "comments        0\n",
       "price           0\n",
       "URL             0\n",
       "category        0\n",
       "upvotes         0\n",
       "date            0\n",
       "dtype: int64"
      ]
     },
     "execution_count": 83,
     "metadata": {},
     "output_type": "execute_result"
    }
   ],
   "source": [
    "product_hunt.isna().sum() #there are no missing values in my dataset"
   ]
  },
  {
   "cell_type": "markdown",
   "id": "302bc452",
   "metadata": {},
   "source": [
    " Duplicates"
   ]
  },
  {
   "cell_type": "code",
   "execution_count": 111,
   "id": "0d4a6cdb",
   "metadata": {},
   "outputs": [
    {
     "name": "stdout",
     "output_type": "stream",
     "text": [
      "There seem to be 0 duplicates in the database.\n"
     ]
    }
   ],
   "source": [
    "# Check number of duplicates while ignoring the index feature\n",
    "n_duplicates = product_hunt.drop(labels=[\"product_name\"], axis=1).duplicated().sum()\n",
    "print(f\"There seem to be {n_duplicates} duplicates in the database.\")"
   ]
  },
  {
   "cell_type": "markdown",
   "id": "eb9c23b3",
   "metadata": {},
   "source": [
    "#### Saving the changes to a modified CSV "
   ]
  },
  {
   "cell_type": "code",
   "execution_count": 109,
   "id": "672579ea",
   "metadata": {},
   "outputs": [],
   "source": [
    "product_hunt.to_csv('modified_producthunt_data.csv')"
   ]
  }
 ],
 "metadata": {
  "kernelspec": {
   "display_name": "Python 3 (ipykernel)",
   "language": "python",
   "name": "python3"
  },
  "language_info": {
   "codemirror_mode": {
    "name": "ipython",
    "version": 3
   },
   "file_extension": ".py",
   "mimetype": "text/x-python",
   "name": "python",
   "nbconvert_exporter": "python",
   "pygments_lexer": "ipython3",
   "version": "3.9.12"
  }
 },
 "nbformat": 4,
 "nbformat_minor": 5
}
